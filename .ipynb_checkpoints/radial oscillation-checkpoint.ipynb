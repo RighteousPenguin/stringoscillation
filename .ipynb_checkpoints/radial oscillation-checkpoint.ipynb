{
 "cells": [
  {
   "cell_type": "code",
   "execution_count": 22,
   "id": "0fc9b5e3",
   "metadata": {},
   "outputs": [
    {
     "name": "stdout",
     "output_type": "stream",
     "text": [
      "Using matplotlib backend: Qt5Agg\n"
     ]
    }
   ],
   "source": [
    "# cf https://www.geeksforgeeks.org/how-to-update-a-plot-in-matplotlib/\n",
    "\n",
    "# the following line is only needed in jupyter and similar environments\n",
    "# for getting animated plot in separate window in jupyter\n",
    "%matplotlib\n",
    "import matplotlib.pyplot as plt\n",
    "import numpy as np\n",
    "\n",
    "def mode(sigma, phase, k=1):\n",
    "    # k is related to the relative speed of both waves: for k=1, we get a standing wave on the circle.\n",
    "    # For k != 1 the roots of the wave move along the circle.\n",
    "    # Note: there are no longitudinal degrees of freedom for strings as the physical solutions of the string\n",
    "    # are described by 2(D-2) solutions\n",
    "    wave1 = np.cos(sigma + phase) + np.sin(sigma + phase) # left mover\n",
    "    wave2 = np.cos(-sigma + phase*k) + np.sin(-sigma + phase*k) # right mover\n",
    "    return np.array([wave1, wave2])\n",
    "\n",
    "# set up three unit circles\n",
    "sigma = np.linspace(0, 2*np.pi, 360) # circle coordinate\n",
    "X1, Y1 = np.cos(sigma), np.sin(sigma)\n",
    "X2, Y2 = np.cos(sigma), np.sin(sigma)\n",
    "Xeff, Yeff = (X1+X2)/2, (Y1+Y2)/2\n",
    "\n",
    "# set up plot\n",
    "fig = plt.figure()\n",
    "plt.ion() # interactive plotting -> animations\n",
    "ax = fig.add_subplot()\n",
    "ax.axis('equal')\n",
    "circle1, = ax.plot(X1, Y1, linewidth=.5)\n",
    "circle2, = ax.plot(X2, Y2, linewidth=.5)\n",
    "circleeff, = ax.plot(Xeff, Yeff)\n",
    "\n",
    "amp = 1/4\n",
    "for phase in np.linspace(0, 6*np.pi, 6*180):\n",
    "    for ind, s in enumerate(sigma):\n",
    "        # draw a circle and shift every point radially by the mode function at that point\n",
    "        x, y = np.cos(s), np.sin(s)\n",
    "        shifts = mode(5*s, phase, 5)*amp\n",
    "        r = np.array([x, y]) # unit vector in radial direction\n",
    "        X1[ind], Y1[ind] = x + r[0]*shifts[0], y + r[1]*shifts[0]\n",
    "        X2[ind], Y2[ind] = x + r[0]*shifts[1], y + r[1]*shifts[1]\n",
    "        Xeff, Yeff = (X1 + X2)/2, (Y1 + Y2)/2 # the string is the sum of both movers\n",
    "        \n",
    "    # update plots\n",
    "    circle1.set_xdata(X1), circle1.set_ydata(Y1)\n",
    "    circle2.set_xdata(X2), circle2.set_ydata(Y2)\n",
    "    circleeff.set_xdata(Xeff), circleeff.set_ydata(Yeff)\n",
    "    fig.canvas.draw()\n",
    "    fig.canvas.flush_events()\n"
   ]
  }
 ],
 "metadata": {
  "kernelspec": {
   "display_name": "Python 3 (ipykernel)",
   "language": "python",
   "name": "python3"
  },
  "language_info": {
   "codemirror_mode": {
    "name": "ipython",
    "version": 3
   },
   "file_extension": ".py",
   "mimetype": "text/x-python",
   "name": "python",
   "nbconvert_exporter": "python",
   "pygments_lexer": "ipython3",
   "version": "3.9.7"
  }
 },
 "nbformat": 4,
 "nbformat_minor": 5
}
